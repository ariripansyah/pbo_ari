{
  "nbformat": 4,
  "nbformat_minor": 0,
  "metadata": {
    "colab": {
      "private_outputs": true,
      "provenance": []
    },
    "kernelspec": {
      "name": "python3",
      "display_name": "Python 3"
    },
    "language_info": {
      "name": "python"
    }
  },
  "cells": [
    {
      "cell_type": "code",
      "execution_count": null,
      "metadata": {
        "id": "KUxDMbx3Ci93"
      },
      "outputs": [],
      "source": [
        "import pandas as pd\n",
        "import numpy as np\n",
        "import matplotlib.pyplot as plt\n",
        "from sklearn.model_selection import train_test_split\n",
        "from sklearn.cluster import KMeans\n",
        "from sklearn.metrics import accuracy_score, confusion_matrix\n",
        "import warnings\n",
        "warnings.filterwarnings(\"ignore\")"
      ]
    },
    {
      "cell_type": "code",
      "source": [
        "from google.colab import drive\n",
        "drive.mount('/content/drive')"
      ],
      "metadata": {
        "id": "_FL-0kUtCwkQ"
      },
      "execution_count": null,
      "outputs": []
    },
    {
      "cell_type": "code",
      "source": [
        "from os import path\n",
        "path = '/content/drive/MyDrive/Colab Notebooks/csv/housing.csv'\n",
        "df = pd.read_csv(path)\n",
        "\n",
        "df.describe()"
      ],
      "metadata": {
        "id": "LpsJ_WepDCyj"
      },
      "execution_count": null,
      "outputs": []
    },
    {
      "cell_type": "code",
      "source": [
        "df_new = df[[\"longitude\",\"latitude\"]] #menslicing data yang akan dii analisis\n",
        "df_new.head"
      ],
      "metadata": {
        "id": "KfzTggRODLy-"
      },
      "execution_count": null,
      "outputs": []
    },
    {
      "cell_type": "code",
      "source": [
        "df_new.describe()"
      ],
      "metadata": {
        "id": "4hsNDeJ9DZr7"
      },
      "execution_count": null,
      "outputs": []
    },
    {
      "cell_type": "code",
      "source": [
        "df_new.isnull().sum()# mencari apakah ada data yg null"
      ],
      "metadata": {
        "id": "7Wd_lRzIDdOS"
      },
      "execution_count": null,
      "outputs": []
    },
    {
      "cell_type": "code",
      "source": [
        "df.plot(kind='scatter', x='longitude', y='latitude')\n",
        "#plt.scatter (df_new.iloc[:,0], df_new.iloc[:,1])\n",
        "plt.xlabel('longitude')\n",
        "plt.ylabel('latitude')\n",
        "plt.title('Housing')\n",
        "plt.show()"
      ],
      "metadata": {
        "id": "9u7K7bVXDgUN"
      },
      "execution_count": null,
      "outputs": []
    },
    {
      "cell_type": "code",
      "source": [
        "#membaca 2 features\n",
        "df = df[[\"longitude\",\"latitude\"]]\n",
        "df.head()"
      ],
      "metadata": {
        "id": "nUx-fhD-KssA"
      },
      "execution_count": null,
      "outputs": []
    },
    {
      "cell_type": "code",
      "source": [
        "#asumsi nilai k\n",
        "kmeans = KMeans(n_clusters=3)#membuat objek k-means\n",
        "kmeans.fit(df)#Fitting the Model"
      ],
      "metadata": {
        "id": "XUs_ZoMpK1MA"
      },
      "execution_count": null,
      "outputs": []
    },
    {
      "cell_type": "code",
      "source": [
        "#generate label tiap point\n",
        "labels = kmeans.predict(df)\n",
        "labels"
      ],
      "metadata": {
        "id": "YI6FWR3nK7yH"
      },
      "execution_count": null,
      "outputs": []
    },
    {
      "cell_type": "code",
      "source": [
        "#menampilkan data centroid tiap cluster\n",
        "centroids = kmeans.cluster_centers_\n",
        "centroids"
      ],
      "metadata": {
        "id": "gOGXMpPiLAnL"
      },
      "execution_count": null,
      "outputs": []
    },
    {
      "cell_type": "code",
      "source": [
        "#melihat inersia k-means\n",
        "kmeans.inertia_"
      ],
      "metadata": {
        "id": "Kt0YJinoLKoD"
      },
      "execution_count": null,
      "outputs": []
    },
    {
      "cell_type": "code",
      "source": [
        "inertia_list = []\n",
        "for num_clusters in np.arange(1, 21):\n",
        "    kmeans =KMeans(n_clusters=num_clusters)\n",
        "    kmeans.fit(df)\n",
        "    inertia_list.append(kmeans.inertia_)"
      ],
      "metadata": {
        "id": "AKVWcnzODilO"
      },
      "execution_count": null,
      "outputs": []
    },
    {
      "cell_type": "code",
      "source": [
        "inertia_list"
      ],
      "metadata": {
        "id": "V6ox1VZODl_7"
      },
      "execution_count": null,
      "outputs": []
    },
    {
      "cell_type": "code",
      "source": [
        "#Plotting menggunakan elbow curve\n",
        "plt.figure(figsize=(10, 5))\n",
        "plt.plot(np.arange(1, 21), inertia_list, color='blue')\n",
        "plt.scatter(np.arange(1, 21), inertia_list, color='red')\n",
        "plt.grid(True)\n",
        "plt.xlabel('Jumlah Cluster')\n",
        "plt.ylabel('Nilai Inertia')\n",
        "plt.title('Elbow Curve')\n",
        "plt.show()"
      ],
      "metadata": {
        "id": "FYE9VXjqD0qE"
      },
      "execution_count": null,
      "outputs": []
    },
    {
      "cell_type": "code",
      "source": [
        "#step 1\n",
        "k = 3 #Asumsikan kita akan mencari 3 cluster\n",
        "np.random.seed(40)\n",
        "\n",
        "#disini kita akan mendapatkan 3 poit random centroid\n",
        "random_centroids=[]\n",
        "for i in range(1,k+1):\n",
        "    random_centroids.append([np.random.randint(-124,-114), np.random.randint(32,42)])\n",
        "print('Randomly selected point as random_centroids:',random_centroids)"
      ],
      "metadata": {
        "id": "k_0WpAk2Lcmj"
      },
      "execution_count": null,
      "outputs": []
    },
    {
      "cell_type": "code",
      "source": [
        "#ploting random centroid tiap segmen\n",
        "plt.figure(figsize=(5, 5))\n",
        "plt.scatter(df_new.iloc[:,0], df_new.iloc[:,1], color='cyan')\n",
        "length = len(random_centroids)\n",
        "colors1=['r','g','b','cyan','yellow','black']\n",
        "for i in range(length):\n",
        "    plt.scatter(*random_centroids[i],color=colors1[i])\n",
        "plt.xlabel('longitude')    \n",
        "plt.ylabel('latitude')\n",
        "plt.show()"
      ],
      "metadata": {
        "id": "JzIKio7PLnfF"
      },
      "execution_count": null,
      "outputs": []
    },
    {
      "cell_type": "code",
      "source": [
        "#Langkah kedua\n",
        "\n",
        "#Here, we are calculating the distance between the datapoints and our centroids and assigning each data-point to the closest cluster\n",
        "def assignment(df_new,random_centroids):\n",
        "\n",
        "  for i in range(length) :\n",
        "    df_new['Distance from Centroid {}'.format(i)]=(np.sqrt((df_new.iloc[:,0] - random_centroids[i][0]) ** 2 + (df_new.iloc[:,1] - random_centroids[i][1]) ** 2))\n",
        "   \n",
        "  list1=[]\n",
        "  list2=[]\n",
        "  for a,b,c in zip(df_new['Distance from Centroid 0'],df_new['Distance from Centroid 1'],df_new['Distance from Centroid 2']):\n",
        "    d = min(a,b,c)\n",
        "   \n",
        "    if d == a:\n",
        "      list1.append(0)\n",
        "      list2.append('r')\n",
        "    elif d == b:\n",
        "      list1.append(1)\n",
        "      list2.append('g')\n",
        "    else:\n",
        "      list1.append(2)\n",
        "      list2.append('b')\n",
        "  df_new['Closest_Centroid'] = list1\n",
        "  df_new['Color']=list2\n",
        "  return df_new"
      ],
      "metadata": {
        "id": "UQKaXOEXL2je"
      },
      "execution_count": null,
      "outputs": []
    },
    {
      "cell_type": "code",
      "source": [
        "df_new = assignment(df_new, random_centroids)\n",
        "df_new.head()"
      ],
      "metadata": {
        "id": "UbjME0sBMOtt"
      },
      "execution_count": null,
      "outputs": []
    },
    {
      "cell_type": "code",
      "source": [
        "#penempatan cluster\n",
        "plt.figure(figsize=(5,5))\n",
        "plt.scatter(df_new.iloc[:,0],df_new.iloc[:,1],color =df_new['Color'],alpha = 0.5,edgecolor = 'k')\n",
        "for i in range(length):\n",
        "  plt.scatter(*random_centroids[i],color=colors1[i])"
      ],
      "metadata": {
        "id": "rUOFKGEpMUZ9"
      },
      "execution_count": null,
      "outputs": []
    },
    {
      "cell_type": "code",
      "source": [
        "#step-3\n",
        "#update data\n",
        "#update centroid titik yang baru\n",
        "#update stage\n",
        "def update(parameter):\n",
        "    for i in range(length):\n",
        "        random_centroids[i][0] = np.mean(df_new[df_new['Closest_Centroid'] == i]['longitude'])\n",
        "        random_centroids[i][1] = np.mean(df_new[df_new['Closest_Centroid'] == i]['latitude'])\n",
        "    return parameter"
      ],
      "metadata": {
        "id": "Llp7pyOOMXFJ"
      },
      "execution_count": null,
      "outputs": []
    },
    {
      "cell_type": "code",
      "source": [
        "#step last\n",
        "#mencari titik centroid paling tepat\n",
        "df_new = assignment(df_new, random_centroids)\n",
        "df_new.head()\n",
        "plt.figure(figsize=(5, 5))\n",
        "plt.scatter(df_new.iloc[:,0], df_new.iloc[:,1], color=df_new['Color'], alpha=0.5, edgecolor='k')\n",
        "for i in range(length):\n",
        "    plt.scatter(*random_centroids[i], color=colors1[i])\n",
        "plt.show()"
      ],
      "metadata": {
        "id": "1dar3LrEMfF7"
      },
      "execution_count": null,
      "outputs": []
    },
    {
      "cell_type": "code",
      "source": [
        "#membaca 2 features\n",
        "df = df[[\"longitude\",\"latitude\"]]\n",
        "df.head()"
      ],
      "metadata": {
        "id": "lkGQsvluMh1f"
      },
      "execution_count": null,
      "outputs": []
    },
    {
      "cell_type": "code",
      "source": [
        "#asumsi nilai k\n",
        "kmeans = KMeans(n_clusters=3)#membuat objek k-means\n",
        "kmeans.fit(df)#Fitting the Model"
      ],
      "metadata": {
        "id": "Hmv2i4mWaESW"
      },
      "execution_count": null,
      "outputs": []
    },
    {
      "cell_type": "code",
      "source": [
        "#generate label tiap point\n",
        "labels = kmeans.predict(df)\n",
        "labels"
      ],
      "metadata": {
        "id": "irGF7f7WaOfy"
      },
      "execution_count": null,
      "outputs": []
    },
    {
      "cell_type": "code",
      "source": [
        "#menampilkan data centroid tiap cluster\n",
        "centroids = kmeans.cluster_centers_\n",
        "centroids"
      ],
      "metadata": {
        "id": "AsVY9fifaRm6"
      },
      "execution_count": null,
      "outputs": []
    },
    {
      "cell_type": "code",
      "source": [
        "#melihat inersia k-means\n",
        "kmeans.inertia_"
      ],
      "metadata": {
        "id": "28M02SmZaUw4"
      },
      "execution_count": null,
      "outputs": []
    },
    {
      "cell_type": "code",
      "source": [
        "plt.figure(figsize=(10, 5))\n",
        "colmap = {1:'y',2:'g',3:'b',4:'r',5:'c'} #penentuan warna plot\n",
        "colors = map(lambda x: colmap[x+1], labels)\n",
        "print(colors)\n",
        "colors1=list(colors)\n",
        "plt.scatter(df['longitude'], df['latitude'], color=colors1, alpha=0.5)\n",
        "for idx, centroid in enumerate(centroids):\n",
        "    plt.scatter(*centroid, color=colmap[idx+1])\n",
        "plt.xlabel('Usia')\n",
        "plt.ylabel('Pendapatan Skor')\n",
        "plt.title('Plot ter-clusterisasi K-Means')\n",
        "plt.show()"
      ],
      "metadata": {
        "id": "gysPs8TNaW1V"
      },
      "execution_count": null,
      "outputs": []
    }
  ]
}