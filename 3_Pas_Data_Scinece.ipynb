{
  "nbformat": 4,
  "nbformat_minor": 0,
  "metadata": {
    "colab": {
      "private_outputs": true,
      "provenance": []
    },
    "kernelspec": {
      "name": "python3",
      "display_name": "Python 3"
    },
    "language_info": {
      "name": "python"
    }
  },
  "cells": [
    {
      "cell_type": "code",
      "execution_count": null,
      "metadata": {
        "id": "BZukl-z3bLKo"
      },
      "outputs": [],
      "source": [
        "import statistics \n",
        "import pandas as pd\n",
        "import numpy as np\n",
        "from scipy import stats"
      ]
    },
    {
      "cell_type": "code",
      "source": [
        "#minggu 1\n",
        "mg_1 = 6560860\n",
        "mg_2 = 5950850\n",
        "mg_3 = 12685900\n",
        "mg_4 = 5768500\n",
        "mg_5 = 2989000\n",
        "\n",
        "hasil_mg = mg_1 + mg_2 + mg_4 + mg_5\n",
        "print('    ======soal 1=======')\n",
        "print('maka jumlah minggu_1 ' + str(hasil_mg))\n",
        "\n",
        "#minggu 2\n",
        "b2 = 8782150\n",
        "b2 = 6620000\n",
        "b2  = 5128750\n",
        "b2 = 5217300\n",
        "b2 = 4820600\n",
        "hasil_b = b2 + b2 + b2 + b2 + b2 \n",
        "print('    ======soal 2=======')\n",
        "print('maka jumlah minggu_2 ' + str(hasil_b))\n",
        "\n",
        "#minggu 3\n",
        "d3 = 8130940\n",
        "d3 = 2940650\n",
        "d3 = 3488200\n",
        "d3 = 6930540\n",
        "d3 = 4319260\n",
        "hasil_d = d3 + d3 + d3 + d3 + d3 \n",
        "print('    ======soal 3=======')\n",
        "print('maka jumlah minggu_3 ' + str(hasil_d))\n",
        "\n",
        "#minggu 4\n",
        "e4 =12849100\n",
        "e4 = 5752200\n",
        "e4 = 5128400\n",
        "e4 = 3880490\n",
        "e4 = 4982100\n",
        "hasil_e = e4 + e4 + e4 + e4 + e4 \n",
        "print('    ======soal 3=======')\n",
        "print('maka jumlah minggu_3 ' + str(hasil_e))\n",
        "\n",
        "\n",
        "#diagram batang\n",
        "fig = plt.figure()\n",
        "ax = fig.add_axes([0,0,1,1])\n",
        "ax.axis('equal')\n",
        "pendidikan = ['mg','b','d','e']\n",
        "jumlah_orang = [21269210, 24103000, 21596300, 24910500]\n",
        "ax.pie(jumlah_orang,labels=pendidikan,autopct='%1.2f%%')\n",
        "plt.show()\n",
        "\n",
        "#diagram batang\n",
        "import matplotlib.pyplot as plt\n",
        "fig = plt.figure()\n",
        "ax = fig.add_axes([0,0,1,1])\n",
        "pendidikan = ['mg','b','d','e']\n",
        "jumlah_orang = [21269210, 24103000, 21596300, 24910500]\n",
        "c = ['blue','orange','purple','red','yellow']\n",
        "plt.bar (pendidikan,jumlah_orang, color = c)\n",
        "plt.show()\n"
      ],
      "metadata": {
        "id": "zhEmpOmLnFFS"
      },
      "execution_count": null,
      "outputs": []
    },
    {
      "cell_type": "code",
      "source": [
        "#rata rata dari mingu 1 dan minggu ke 4\n",
        "mg_1 = (386/6560860)\n",
        "mg_2 = (752/5950850)\n",
        "mg_3 = (1203/12685900)\n",
        "mg_4 = (715/5768500)\n",
        "mg_5 = (289/2989000)\n",
        "print('Buah - buahan ' + str(mg_1))\n",
        "print('Keperluan Dapur ' + str(mg_2))\n",
        "print('keperluan Mandi dsb' + str(mg_3))\n",
        "print('Perlengkapan rumah Tangga' + str(mg_4))"
      ],
      "metadata": {
        "id": "5CwPyKHSnIfd"
      },
      "execution_count": null,
      "outputs": []
    },
    {
      "cell_type": "code",
      "source": [],
      "metadata": {
        "id": "c9B2_pectAw2"
      },
      "execution_count": null,
      "outputs": []
    }
  ]
}